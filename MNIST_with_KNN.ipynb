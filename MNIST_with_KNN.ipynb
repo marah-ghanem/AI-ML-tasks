{
  "nbformat": 4,
  "nbformat_minor": 0,
  "metadata": {
    "colab": {
      "provenance": [],
      "include_colab_link": true
    },
    "kernelspec": {
      "name": "python3",
      "display_name": "Python 3"
    },
    "language_info": {
      "name": "python"
    },
    "accelerator": "GPU",
    "gpuClass": "standard"
  },
  "cells": [
    {
      "cell_type": "markdown",
      "metadata": {
        "id": "view-in-github",
        "colab_type": "text"
      },
      "source": [
        "<a href=\"https://colab.research.google.com/github/marah-ghanem/AI-ML-tasks/blob/main/MNIST_with_KNN.ipynb\" target=\"_parent\"><img src=\"https://colab.research.google.com/assets/colab-badge.svg\" alt=\"Open In Colab\"/></a>"
      ]
    },
    {
      "cell_type": "code",
      "source": [
        "import numpy as np \n",
        "from sklearn.neighbors import KNeighborsClassifier\n",
        "from sklearn.metrics import accuracy_score\n",
        "from keras.datasets import mnist \n",
        "from collections import Counter"
      ],
      "metadata": {
        "id": "HlaarhuA6qRc"
      },
      "execution_count": null,
      "outputs": []
    },
    {
      "cell_type": "code",
      "source": [
        "#load mnist dataset\n",
        "(x_train,y_train),(x_test,y_test)= mnist.load_data()"
      ],
      "metadata": {
        "colab": {
          "base_uri": "https://localhost:8080/"
        },
        "id": "vCJWVxxC6uKe",
        "outputId": "605093ab-0f67-4f6d-ca0e-feef77445009"
      },
      "execution_count": null,
      "outputs": [
        {
          "output_type": "stream",
          "name": "stdout",
          "text": [
            "Downloading data from https://storage.googleapis.com/tensorflow/tf-keras-datasets/mnist.npz\n",
            "11490434/11490434 [==============================] - 0s 0us/step\n"
          ]
        }
      ]
    },
    {
      "cell_type": "code",
      "source": [
        "#taking 10000 sample from 60k training datasets\n",
        "#x_train=x_train[0:10000]\n",
        "#y_train=y_train[0:10000]\n",
        "#taking 1000 sample from 10k test datasets\n",
        "#x_test=x_test[0:1000]\n",
        "#y_test=y_test[0:1000]\n",
        "\n",
        "print(x_train.shape)\n",
        "print(x_test.shape)\n"
      ],
      "metadata": {
        "colab": {
          "base_uri": "https://localhost:8080/"
        },
        "id": "GcoC2kkd6xCr",
        "outputId": "7caa02b7-c8e9-4273-c9e6-c05a1e24c9df"
      },
      "execution_count": null,
      "outputs": [
        {
          "output_type": "stream",
          "name": "stdout",
          "text": [
            "(60000, 28, 28)\n",
            "(10000, 28, 28)\n"
          ]
        }
      ]
    },
    {
      "cell_type": "code",
      "source": [
        "#function for grid the image which divide the image to small images\"blocks\"with diff dimantonal col and row\n",
        "def get_grid(image , row , col ):\n",
        "    x , y = image.shape \n",
        "    \n",
        "    return (image.reshape ( x //row, row, -1, col)\n",
        "               .swapaxes(1,2)\n",
        "               .reshape(-1, row, col))"
      ],
      "metadata": {
        "id": "PfdnEpku60Wv"
      },
      "execution_count": null,
      "outputs": []
    },
    {
      "cell_type": "code",
      "source": [
        "#function that compute the center of Mass for every block\n",
        "def get_centroid(img):\n",
        "    \n",
        "    centroid_vector = [] \n",
        "        \n",
        "    for grid in get_grid(img , 7 ,7 ):\n",
        "        Xc = 0\n",
        "        Yc = 0\n",
        "        sum = 0 \n",
        "    \n",
        "        for index, x in np.ndenumerate(grid):#\n",
        "          sum += x \n",
        "          Xc += x * index[0]\n",
        "          Yc += x * index[1]\n",
        "        \n",
        "        if sum != 0 :\n",
        "            centroid_vector.append( Xc/ sum )\n",
        "            centroid_vector.append(Yc/ sum )\n",
        "        else :\n",
        "            centroid_vector.append(0)\n",
        "            centroid_vector.append(0)\n",
        "        \n",
        "    \n",
        "    return np.array(centroid_vector)"
      ],
      "metadata": {
        "id": "R3EbP1W1630y"
      },
      "execution_count": null,
      "outputs": []
    },
    {
      "cell_type": "code",
      "source": [
        "train_features = [get_centroid(image)  for image in x_train ]\n",
        "train_features = np.array(train_features)\n",
        "train_features.shape\n"
      ],
      "metadata": {
        "colab": {
          "base_uri": "https://localhost:8080/"
        },
        "id": "pkqFvQ9_69mP",
        "outputId": "360d1858-142e-4b90-84f2-3473d0059f62"
      },
      "execution_count": null,
      "outputs": [
        {
          "output_type": "execute_result",
          "data": {
            "text/plain": [
              "(60000, 32)"
            ]
          },
          "metadata": {},
          "execution_count": 6
        }
      ]
    },
    {
      "cell_type": "code",
      "source": [
        "test_features = [get_centroid(img)  for img in x_test ]\n",
        "test_features = np.array(test_features)\n",
        "test_features.shape\n"
      ],
      "metadata": {
        "colab": {
          "base_uri": "https://localhost:8080/"
        },
        "id": "_HoJKIuR6-c_",
        "outputId": "d8d43509-a617-4864-c5a3-0672422a748a"
      },
      "execution_count": null,
      "outputs": [
        {
          "output_type": "execute_result",
          "data": {
            "text/plain": [
              "(10000, 32)"
            ]
          },
          "metadata": {},
          "execution_count": 7
        }
      ]
    },
    {
      "cell_type": "code",
      "source": [
        "class KNN:\n",
        "    def _init_(self):\n",
        "        pass\n",
        "\n",
        "    def fit(self, X, y):\n",
        "        self.X_train = X\n",
        "        self.y_train = y\n",
        "\n",
        "    def predict(self, X, k=1):\n",
        "        predictions = []\n",
        "        for x in X:\n",
        "            distances = [np.sqrt(np.sum((x - x_train)**2)) for x_train in self.X_train]\n",
        "            nearest_neighbors = np.argsort(distances)[:k]\n",
        "            k_nearest_labels = [self.y_train[i] for i in nearest_neighbors]\n",
        "            most_common_label = Counter(k_nearest_labels).most_common(1)[0][0]\n",
        "            predictions.append(most_common_label)\n",
        "        return predictions"
      ],
      "metadata": {
        "id": "Rlh6HfIiTZHR"
      },
      "execution_count": null,
      "outputs": []
    },
    {
      "cell_type": "code",
      "source": [
        "knn = KNN()\n",
        "knn.fit(train_features, y_train)\n",
        "\n",
        "# Test KNN classifier\n",
        "y_pred = knn.predict(test_features)\n",
        "\n",
        "# Evaluate accuracy\n",
        "accuracy = accuracy_score(y_test, y_pred)\n",
        "print(f\"Accuracy: {accuracy}\")"
      ],
      "metadata": {
        "colab": {
          "base_uri": "https://localhost:8080/"
        },
        "id": "v5OgEISdSitZ",
        "outputId": "fbdd50e4-d2b7-41cb-9cfb-31620ae2ee2a"
      },
      "execution_count": null,
      "outputs": [
        {
          "output_type": "stream",
          "name": "stdout",
          "text": [
            "Accuracy: 0.9174\n"
          ]
        }
      ]
    },
    {
      "cell_type": "code",
      "source": [],
      "metadata": {
        "id": "63Q8f2QmPQ0D"
      },
      "execution_count": null,
      "outputs": []
    }
  ]
}